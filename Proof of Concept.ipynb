{
 "cells": [
  {
   "cell_type": "code",
   "execution_count": 208,
   "metadata": {},
   "outputs": [],
   "source": [
    "import pandas as pd\n",
    "import numpy as np\n",
    "\n",
    "cb_test = pd.read_csv('test_data.csv')\n",
    "gem_test = pd.read_csv('test_data_gemini.csv')\n",
    "gem_test_may = pd.read_csv('test_data_gemini_may.csv')"
   ]
  },
  {
   "cell_type": "code",
   "execution_count": 213,
   "metadata": {},
   "outputs": [
    {
     "name": "stdout",
     "output_type": "stream",
     "text": [
      "19.997601440000007\n",
      "79.9904\n"
     ]
    }
   ],
   "source": [
    "starting_funds = 100\n",
    "limit_threshold = 0.04\n",
    "crypto_pct = 0.8\n",
    "fee = 0.00015\n",
    "\n",
    "previous_price = cb_test['Close'][0]\n",
    "coins = (starting_funds * crypto_pct - starting_funds * crypto_pct * crypto_pct * fee) / previous_price\n",
    "cash = starting_funds - coins * previous_price - coins * previous_price * fee\n",
    "print(cash)\n",
    "print(coins * previous_price)"
   ]
  },
  {
   "cell_type": "code",
   "execution_count": 214,
   "metadata": {},
   "outputs": [],
   "source": [
    "def set_limits():\n",
    "    global buy_price\n",
    "    global buy_amount\n",
    "    global sell_price\n",
    "    global sell_amount\n",
    "    \n",
    "    buy_price = previous_price * (1 - limit_threshold)\n",
    "    buy_amount = -limit_threshold * cash * crypto_pct * (crypto_pct * fee - 1)\n",
    "    sell_price = previous_price * (1 + limit_threshold)\n",
    "    sell_amount = limit_threshold * cash * crypto_pct * (crypto_pct * fee + 1)"
   ]
  },
  {
   "cell_type": "code",
   "execution_count": 215,
   "metadata": {},
   "outputs": [],
   "source": [
    "set_limits()\n",
    "\n",
    "for price in cb_test.Close:\n",
    "    if price >= sell_price:\n",
    "        cash += sell_amount - sell_amount * fee\n",
    "        coins -= sell_amount / sell_price\n",
    "        previous_price = sell_price\n",
    "        set_limits()\n",
    "    elif price <= buy_price:\n",
    "        cash -= buy_amount - buy_amount * fee\n",
    "        coins += buy_amount / buy_price\n",
    "        previous_price = buy_price\n",
    "        set_limits()"
   ]
  },
  {
   "cell_type": "code",
   "execution_count": 216,
   "metadata": {},
   "outputs": [
    {
     "name": "stdout",
     "output_type": "stream",
     "text": [
      "30.31357418410294\n",
      "119.96847705678385\n",
      "0.406325689157779\n"
     ]
    }
   ],
   "source": [
    "print(cash)\n",
    "print(coins * previous_price)\n",
    "print(coins)"
   ]
  },
  {
   "cell_type": "code",
   "execution_count": null,
   "metadata": {},
   "outputs": [],
   "source": []
  },
  {
   "cell_type": "code",
   "execution_count": null,
   "metadata": {},
   "outputs": [],
   "source": []
  }
 ],
 "metadata": {
  "kernelspec": {
   "display_name": "Python 3",
   "language": "python",
   "name": "python3"
  },
  "language_info": {
   "codemirror_mode": {
    "name": "ipython",
    "version": 3
   },
   "file_extension": ".py",
   "mimetype": "text/x-python",
   "name": "python",
   "nbconvert_exporter": "python",
   "pygments_lexer": "ipython3",
   "version": "3.7.0"
  }
 },
 "nbformat": 4,
 "nbformat_minor": 2
}
